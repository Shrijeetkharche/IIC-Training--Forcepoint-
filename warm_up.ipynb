{
 "cells": [
  {
   "cell_type": "markdown",
   "metadata": {},
   "source": [
    "### Question No. 1\n",
    "\n",
    "Write an algorithm to reverse a character array. Method signature: public char [] reverse\n",
    "(char [] input).  \n",
    "Note:\n",
    "1. It is not allowed to use any inbuilt language function.\n",
    "2. it is not allowed to use any temporary array.\n",
    "3. Basically it should be an in place reversal."
   ]
  },
  {
   "cell_type": "code",
   "execution_count": 89,
   "metadata": {},
   "outputs": [
    {
     "name": "stdout",
     "output_type": "stream",
     "text": [
      "1st function call:  ['t', 's', 'r', 'q', 'p']\n",
      "2nd function call:  ['e' 'd' 'c' 'b' 'a']\n",
      "3rd function call:  ['t', 's', 'r', 'q', 'p']\n"
     ]
    }
   ],
   "source": [
    "# To Reverse Character Array.\n",
    "import numpy as np\n",
    "\n",
    "def sol_lst(lst):\n",
    "    \"\"\"Using list as an array.\"\"\"\n",
    "    return lst[::-1]\n",
    "\n",
    "def sol_arr(arr):\n",
    "    \"\"\"Using Numpy Package.\"\"\"\n",
    "    return arr[::-1]\n",
    "\n",
    "def sol_pr(x):\n",
    "    \"\"\"By Place Reversal.\"\"\"\n",
    "    l = len(x)\n",
    "    for i in range(0, int(l/2)):\n",
    "        x[i], x[l-i-1] = x[l-i-1], x[i]\n",
    "    return x\n",
    "\n",
    "if __name__ == \"__main__\":\n",
    "    arr = np.array(['a', 'b', 'c', 'd', 'e'])\n",
    "    lst = ['p', 'q', 'r', 's', 't']\n",
    "    # lst = ['w', 'x', 'y', 'z']\n",
    "\n",
    "    print('1st function call: ', sol_lst(lst))\n",
    "    print('2nd function call: ', sol_arr(arr))\n",
    "    print('3rd function call: ', sol_pr(lst))"
   ]
  },
  {
   "cell_type": "markdown",
   "metadata": {},
   "source": [
    "### Question No. 2\n",
    "\n",
    "Find number of occurrences of each number from the array  \n",
    "Every number is in the range [0....100].  \n",
    "    &nbsp;  Public void numberOfOccurences (int [] input){  \n",
    "    &nbsp;     //write logic here  \n",
    "    &nbsp; }  \n",
    "Note: expecting O(n) solution which means no sorting or nested loops allowed  "
   ]
  },
  {
   "cell_type": "code",
   "execution_count": 90,
   "metadata": {},
   "outputs": [
    {
     "name": "stdout",
     "output_type": "stream",
     "text": [
      "1: 3\n",
      "2: 1\n",
      "3: 3\n",
      "4: 4\n",
      "5: 2\n",
      "12: 3\n"
     ]
    }
   ],
   "source": [
    "def count_summary(lst):\n",
    "    \"\"\"Counts the number of occurences of each number from the given array.\"\"\"\n",
    "    dic = dict()\n",
    "    for i in lst:\n",
    "        if i in dic:\n",
    "            dic[i] += 1\n",
    "        else:\n",
    "            dic[i] = 1\n",
    "    return dic\n",
    "\n",
    "if __name__ == \"__main__\":\n",
    "    temp = [1, 2, 3, 3, 3, 1, 1, 4, 4, 4, 4, 5, 5, 12, 12, 12]\n",
    "\n",
    "    sol = count_summary(temp)\n",
    "    for k, v in sol.items():\n",
    "        print(f'{k}: {v}')"
   ]
  },
  {
   "cell_type": "markdown",
   "metadata": {},
   "source": [
    "### Question No. 3\n",
    "\n",
    "Find first maximum and second maximum number from an integer array.  \n",
    "Note : expecting O(n) solution which means no sorting or nested loops allowed."
   ]
  },
  {
   "cell_type": "code",
   "execution_count": 91,
   "metadata": {},
   "outputs": [
    {
     "name": "stdout",
     "output_type": "stream",
     "text": [
      "1st Maximum:  87\n",
      "2nd Maximum:  74\n"
     ]
    }
   ],
   "source": [
    "def max(lst):\n",
    "    \"\"\"Finding 1st Maximum & 2nd Maximum\"\"\"\n",
    "    p = 0\n",
    "    t = lst[0]\n",
    "\n",
    "    for i in lst:\n",
    "        if t < i:\n",
    "            p = t\n",
    "            t = i\n",
    "    return p, t\n",
    "\n",
    "if __name__ == \"__main__\":\n",
    "    temp = [12, 23, 74, 1, 3, 87, 26]\n",
    "\n",
    "    print('1st Maximum: ', max(temp)[1])\n",
    "    print('2nd Maximum: ', max(temp)[0])\n"
   ]
  },
  {
   "cell_type": "markdown",
   "metadata": {},
   "source": [
    "### Question No. 4\n",
    "\n",
    "roundOff a float number having only one decimal place (3.2 = 3; 4.8 =5 etc).  \n",
    "Note: It is not allowed to use any inbuilt language function."
   ]
  },
  {
   "cell_type": "code",
   "execution_count": 102,
   "metadata": {},
   "outputs": [
    {
     "name": "stdout",
     "output_type": "stream",
     "text": [
      "Answer:  6\n"
     ]
    }
   ],
   "source": [
    "def roundoff(i):\n",
    "    \"\"\"Round-off float number without using inbuilt function.\"\"\"\n",
    "    t = i//1\n",
    "    return int(t) if (i-t)<0.5 else int(t+1)\n",
    "\n",
    "if __name__ == \"__main__\":\n",
    "    # inp = float(input('Enter number to round-off: '))\n",
    "    inp = 5.8\n",
    "    print('Answer: ', roundoff(inp))"
   ]
  },
  {
   "cell_type": "markdown",
   "metadata": {},
   "source": [
    "### Question No. 5\n",
    "\n",
    "Surprisingly there are only three numbers that can be written as the sum of fourth\n",
    "powers of their digits:  \n",
    "&nbsp; 1634 = 14 + 64 + 34 + 44  \n",
    "&nbsp; 8208 = 84 + 24 + 04 + 84  \n",
    "&nbsp; 9474 = 94 + 44 + 74 + 44  \n",
    "As 1 = 14 is not a sum it is not included.  \n",
    "The sum of these numbers is 1634 + 8208 + 9474 = 19316.  \n",
    "Find the sum of all the numbers that can be written as the sum of fifth powers of their digits.  "
   ]
  },
  {
   "cell_type": "code",
   "execution_count": 104,
   "metadata": {},
   "outputs": [
    {
     "name": "stdout",
     "output_type": "stream",
     "text": [
      "Total numbers found are:  3\n",
      "The elements are:  [1634, 8208, 9474]\n",
      "The final Sum is  19316\n"
     ]
    }
   ],
   "source": [
    "def check(i, p):\n",
    "    \"\"\"Checks whether a number satisfies the constraint.\"\"\"\n",
    "    s = 0\n",
    "    inp = i\n",
    "    while inp>0:\n",
    "        s = s + (inp%10)**p\n",
    "        inp = int(inp/10)\n",
    "    return True if s == i else False\n",
    "\n",
    "def find_nums(ij):\n",
    "    \"\"\"Overall run.\"\"\"\n",
    "    lst = []\n",
    "    for i in range(10**(ij-1), 10**ij):\n",
    "        if check(i, ij):\n",
    "            lst.append(i)\n",
    "    return lst\n",
    "    \n",
    "        \n",
    "if __name__ == \"__main__\":\n",
    "    # inp = int(input('Enter the number of digits: '))\n",
    "    inp = 4\n",
    "    flst = find_nums(inp)\n",
    "\n",
    "\n",
    "    print('Total numbers found are: ', len(flst))\n",
    "    print('The elements are: ', flst)\n",
    "    print('The final Sum is ', sum(flst))"
   ]
  },
  {
   "cell_type": "markdown",
   "metadata": {},
   "source": [
    "### Question No. 6\n",
    "\n",
    "Write a function that takes in an integer array and returns the item that occurs most\n",
    "often.  \n",
    "int Most_frequent(inputArray [])  \n",
    "If n is an input element in the array the possible values for n 1 ≤ n ≤ 100  \n",
    "Note: Solution should be in O(n)  "
   ]
  },
  {
   "cell_type": "code",
   "execution_count": 94,
   "metadata": {},
   "outputs": [
    {
     "name": "stdout",
     "output_type": "stream",
     "text": [
      "The most occuring element is, 4\n"
     ]
    }
   ],
   "source": [
    "def count_summary(lst):\n",
    "    \"\"\"Counts the number of occurences of each number from the given array.\"\"\"\n",
    "    dic = dict()\n",
    "    for i in lst:\n",
    "        if i in dic:\n",
    "            dic[i] += 1\n",
    "        else:\n",
    "            dic[i] = 1\n",
    "    return dic\n",
    "\n",
    "if __name__ == \"__main__\":\n",
    "    temp = [1, 2, 3, 3, 3, 1, 1, 4, 4, 4, 4, 5, 5]\n",
    "\n",
    "    sol = count_summary(temp)\n",
    "    k = list(sol.keys())\n",
    "    v = list(sol.values())\n",
    "\n",
    "    print('The most occuring element is,', k[max(v)[0]])"
   ]
  },
  {
   "cell_type": "markdown",
   "metadata": {},
   "source": [
    "### Question No. 7  \n",
    "\n",
    "Given two sorted arrays in ascending order, write a function which takes both as input and returns an array of common elements.  \n",
    "A = [1,3,4,6,7,9]  \n",
    "B=[1,2,4,5,9,10]  \n",
    "OutputArray:[1,4,9]  \n",
    "Note: Solution should be in O(n)"
   ]
  },
  {
   "cell_type": "code",
   "execution_count": 108,
   "metadata": {},
   "outputs": [
    {
     "name": "stdout",
     "output_type": "stream",
     "text": [
      "Common elements between A & B are, [1, 4, 9]\n"
     ]
    }
   ],
   "source": [
    "def inter(lst1, lst2):\n",
    "    \"\"\"Finding intersection of two given list.\"\"\"\n",
    "    return [i for i in set(lst1) if i in lst2]\n",
    "\n",
    "if __name__ == \"__main__\":\n",
    "    A = [1, 3, 4, 6, 7, 9]\n",
    "    B = [1, 2, 4, 5, 9, 10]\n",
    "    print('Common elements between A & B are,', inter(A, B))"
   ]
  }
 ],
 "metadata": {
  "kernelspec": {
   "display_name": "Python 3.10.4 ('general_env': venv)",
   "language": "python",
   "name": "python3"
  },
  "language_info": {
   "codemirror_mode": {
    "name": "ipython",
    "version": 3
   },
   "file_extension": ".py",
   "mimetype": "text/x-python",
   "name": "python",
   "nbconvert_exporter": "python",
   "pygments_lexer": "ipython3",
   "version": "3.10.4"
  },
  "orig_nbformat": 4,
  "vscode": {
   "interpreter": {
    "hash": "dc2e104d49ca5948a3454140c94f71b2e75ef3302cfaf27286c0a77e245a77cd"
   }
  }
 },
 "nbformat": 4,
 "nbformat_minor": 2
}
